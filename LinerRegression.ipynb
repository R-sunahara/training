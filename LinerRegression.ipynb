{
 "cells": [
  {
   "cell_type": "code",
   "execution_count": 37,
   "metadata": {},
   "outputs": [],
   "source": [
    "#単回帰分析\n",
    "import pandas as pd\n",
    "import numpy as np\n",
    "%matplotlib inline\n",
    "import matplotlib.pyplot as plt\n",
    "from sklearn import linear_model"
   ]
  },
  {
   "cell_type": "code",
   "execution_count": 56,
   "metadata": {},
   "outputs": [],
   "source": [
    "iris = pd.read_csv('iris.csv')"
   ]
  },
  {
   "cell_type": "code",
   "execution_count": 40,
   "metadata": {},
   "outputs": [],
   "source": [
    "#データ加工\n",
    "setosa = iris[iris[\"variety\"] == \"Setosa\"]\n",
    "versicolor = iris[iris[\"variety\"] == \"Versicolor\"]\n",
    "Virginica = iris[iris[\"variety\"] == \"Virginica\"]\n"
   ]
  },
  {
   "cell_type": "code",
   "execution_count": 44,
   "metadata": {},
   "outputs": [
    {
     "data": {
      "text/plain": [
       "LinearRegression(copy_X=True, fit_intercept=True, n_jobs=None, normalize=False)"
      ]
     },
     "execution_count": 44,
     "metadata": {},
     "output_type": "execute_result"
    }
   ],
   "source": [
    "X = setosa[[\"sepal.length\"]]\n",
    "Y = setosa[[\"sepal.width\"]]\n",
    "\n",
    "LinerRegr = linear_model.LinearRegression()\n",
    "LinerRegr.fit(X,Y)"
   ]
  },
  {
   "cell_type": "code",
   "execution_count": 48,
   "metadata": {},
   "outputs": [
    {
     "data": {
      "image/png": "[encoded data removed]",
      "text/plain": [
       "<Figure size 432x288 with 1 Axes>"
      ]
     },
     "metadata": {
      "needs_background": "light"
     },
     "output_type": "display_data"
    },
    {
     "name": "stdout",
     "output_type": "stream",
     "text": [
      "モデル関数の回帰変数 w1: 0.799\n",
      "モデル関数の切片 w2: -0.569\n",
      "y= 0.799x + -0.569\n",
      "決定係数 R^2：  0.5513755803923135\n"
     ]
    }
   ],
   "source": [
    "plt.plot(X, Y, 'o')\n",
    "plt.plot(X, LinerRegr.predict(X), linestyle=\"solid\")\n",
    "plt.show()\n",
    "\n",
    "print('モデル関数の回帰変数 w1: %.3f' %LinerRegr.coef_)\n",
    "print('モデル関数の切片 w2: %.3f' %LinerRegr.intercept_)\n",
    "print('y= %.3fx + %.3f' % (LinerRegr.coef_ , LinerRegr.intercept_))\n",
    "print('決定係数 R^2： ', LinerRegr.score(X, Y))"
   ]
  },
  {
   "cell_type": "code",
   "execution_count": 49,
   "metadata": {},
   "outputs": [
    {
     "data": {
      "text/plain": [
       "LinearRegression(copy_X=True, fit_intercept=True, n_jobs=None, normalize=False)"
      ]
     },
     "execution_count": 49,
     "metadata": {},
     "output_type": "execute_result"
    }
   ],
   "source": [
    "# 重回帰分析　xを複数列選択するだけ\n",
    "X = setosa[[\"sepal.length\", \"petal.length\", \"petal.width\"]]\n",
    "Y = setosa[[\"sepal.width\"]]\n",
    "\n",
    "LinerRegr = linear_model.LinearRegression()\n",
    "LinerRegr.fit(X,Y)"
   ]
  },
  {
   "cell_type": "code",
   "execution_count": 52,
   "metadata": {},
   "outputs": [
    {
     "name": "stdout",
     "output_type": "stream",
     "text": [
      "決定係数 R^2：  0.5530382150991422\n"
     ]
    }
   ],
   "source": [
    "print('決定係数 R^2： ', LinerRegr.score(X, Y))"
   ]
  },
  {
   "cell_type": "code",
   "execution_count": 57,
   "metadata": {},
   "outputs": [],
   "source": [
    "# カテゴリー変数も考慮したい場合はダミー変数を用意する\n",
    "\n",
    "# ダミー変数を用意\n",
    "dummies = pd.get_dummies(iris[\"variety\"])\n",
    "iris = pd.concat([iris, dummies], axis = 1)"
   ]
  },
  {
   "cell_type": "code",
   "execution_count": 60,
   "metadata": {},
   "outputs": [
    {
     "data": {
      "text/plain": [
       "LinearRegression(copy_X=True, fit_intercept=True, n_jobs=None, normalize=False)"
      ]
     },
     "execution_count": 60,
     "metadata": {},
     "output_type": "execute_result"
    }
   ],
   "source": [
    "X = iris[[\"Virginica\", \"Versicolor\"]]\n",
    "Y = iris[[\"sepal.length\"]]\n",
    "\n",
    "LinerRegr = linear_model.LinearRegression()\n",
    "LinerRegr.fit(X,Y)"
   ]
  },
  {
   "cell_type": "code",
   "execution_count": 67,
   "metadata": {},
   "outputs": [
    {
     "name": "stdout",
     "output_type": "stream",
     "text": [
      "[[1.582 0.93 ]]\n",
      "[5.006]\n",
      "決定係数 R^2：  0.6187057307384871\n"
     ]
    }
   ],
   "source": [
    "print(LinerRegr.coef_)\n",
    "print(LinerRegr.intercept_)\n",
    "#print('y= %.3fx + %.3f' % (LinerRegr.coef_ , LinerRegr.intercept_))\n",
    "print('決定係数 R^2： ', LinerRegr.score(X, Y))"
   ]
  },
  {
   "cell_type": "code",
   "execution_count": 68,
   "metadata": {},
   "outputs": [],
   "source": [
    "#StatsModelsで重回帰分析\n",
    "import statsmodels.api as sm\n",
    "\n",
    "model = sm.OLS(Y, X)"
   ]
  },
  {
   "cell_type": "code",
   "execution_count": 69,
   "metadata": {},
   "outputs": [
    {
     "data": {
      "text/html": [
       "<table class=\"simpletable\">\n",
       "<caption>OLS Regression Results</caption>\n",
       "<tr>\n",
       "  <th>Dep. Variable:</th>      <td>sepal.length</td>   <th>  R-squared (uncentered):</th>      <td>   0.753</td>\n",
       "</tr>\n",
       "<tr>\n",
       "  <th>Model:</th>                   <td>OLS</td>       <th>  Adj. R-squared (uncentered):</th> <td>   0.749</td>\n",
       "</tr>\n",
       "<tr>\n",
       "  <th>Method:</th>             <td>Least Squares</td>  <th>  F-statistic:       </th>          <td>   225.2</td>\n",
       "</tr>\n",
       "<tr>\n",
       "  <th>Date:</th>             <td>Mon, 07 Jun 2021</td> <th>  Prob (F-statistic):</th>          <td>1.26e-45</td>\n",
       "</tr>\n",
       "<tr>\n",
       "  <th>Time:</th>                 <td>06:22:50</td>     <th>  Log-Likelihood:    </th>          <td> -374.34</td>\n",
       "</tr>\n",
       "<tr>\n",
       "  <th>No. Observations:</th>      <td>   150</td>      <th>  AIC:               </th>          <td>   752.7</td>\n",
       "</tr>\n",
       "<tr>\n",
       "  <th>Df Residuals:</th>          <td>   148</td>      <th>  BIC:               </th>          <td>   758.7</td>\n",
       "</tr>\n",
       "<tr>\n",
       "  <th>Df Model:</th>              <td>     2</td>      <th>                     </th>              <td> </td>   \n",
       "</tr>\n",
       "<tr>\n",
       "  <th>Covariance Type:</th>      <td>nonrobust</td>    <th>                     </th>              <td> </td>   \n",
       "</tr>\n",
       "</table>\n",
       "<table class=\"simpletable\">\n",
       "<tr>\n",
       "       <td></td>         <th>coef</th>     <th>std err</th>      <th>t</th>      <th>P>|t|</th>  <th>[0.025</th>    <th>0.975]</th>  \n",
       "</tr>\n",
       "<tr>\n",
       "  <th>Virginica</th>  <td>    6.5880</td> <td>    0.418</td> <td>   15.767</td> <td> 0.000</td> <td>    5.762</td> <td>    7.414</td>\n",
       "</tr>\n",
       "<tr>\n",
       "  <th>Versicolor</th> <td>    5.9360</td> <td>    0.418</td> <td>   14.206</td> <td> 0.000</td> <td>    5.110</td> <td>    6.762</td>\n",
       "</tr>\n",
       "</table>\n",
       "<table class=\"simpletable\">\n",
       "<tr>\n",
       "  <th>Omnibus:</th>       <td>352.367</td> <th>  Durbin-Watson:     </th> <td>   0.073</td>\n",
       "</tr>\n",
       "<tr>\n",
       "  <th>Prob(Omnibus):</th> <td> 0.000</td>  <th>  Jarque-Bera (JB):  </th> <td>  22.314</td>\n",
       "</tr>\n",
       "<tr>\n",
       "  <th>Skew:</th>          <td> 0.612</td>  <th>  Prob(JB):          </th> <td>1.43e-05</td>\n",
       "</tr>\n",
       "<tr>\n",
       "  <th>Kurtosis:</th>      <td> 1.561</td>  <th>  Cond. No.          </th> <td>    1.00</td>\n",
       "</tr>\n",
       "</table><br/><br/>Warnings:<br/>[1] Standard Errors assume that the covariance matrix of the errors is correctly specified."
      ],
      "text/plain": [
       "<class 'statsmodels.iolib.summary.Summary'>\n",
       "\"\"\"\n",
       "                                 OLS Regression Results                                \n",
       "=======================================================================================\n",
       "Dep. Variable:           sepal.length   R-squared (uncentered):                   0.753\n",
       "Model:                            OLS   Adj. R-squared (uncentered):              0.749\n",
       "Method:                 Least Squares   F-statistic:                              225.2\n",
       "Date:                Mon, 07 Jun 2021   Prob (F-statistic):                    1.26e-45\n",
       "Time:                        06:22:50   Log-Likelihood:                         -374.34\n",
       "No. Observations:                 150   AIC:                                      752.7\n",
       "Df Residuals:                     148   BIC:                                      758.7\n",
       "Df Model:                           2                                                  \n",
       "Covariance Type:            nonrobust                                                  \n",
       "==============================================================================\n",
       "                 coef    std err          t      P>|t|      [0.025      0.975]\n",
       "------------------------------------------------------------------------------\n",
       "Virginica      6.5880      0.418     15.767      0.000       5.762       7.414\n",
       "Versicolor     5.9360      0.418     14.206      0.000       5.110       6.762\n",
       "==============================================================================\n",
       "Omnibus:                      352.367   Durbin-Watson:                   0.073\n",
       "Prob(Omnibus):                  0.000   Jarque-Bera (JB):               22.314\n",
       "Skew:                           0.612   Prob(JB):                     1.43e-05\n",
       "Kurtosis:                       1.561   Cond. No.                         1.00\n",
       "==============================================================================\n",
       "\n",
       "Warnings:\n",
       "[1] Standard Errors assume that the covariance matrix of the errors is correctly specified.\n",
       "\"\"\""
      ]
     },
     "execution_count": 69,
     "metadata": {},
     "output_type": "execute_result"
    }
   ],
   "source": [
    "result = model.fit()\n",
    "result.summary()"
   ]
  },
  {
   "cell_type": "code",
   "execution_count": null,
   "metadata": {},
   "outputs": [],
   "source": []
  }
 ],
 "metadata": {
  "kernelspec": {
   "display_name": "Python 3",
   "language": "python",
   "name": "python3"
  },
  "language_info": {
   "codemirror_mode": {
    "name": "ipython",
    "version": 3
   },
   "file_extension": ".py",
   "mimetype": "text/x-python",
   "name": "python",
   "nbconvert_exporter": "python",
   "pygments_lexer": "ipython3",
   "version": "3.7.6"
  }
 },
 "nbformat": 4,
 "nbformat_minor": 4
}
